{
 "cells": [
  {
   "cell_type": "markdown",
   "metadata": {},
   "source": [
    "### Lecture code"
   ]
  },
  {
   "cell_type": "markdown",
   "metadata": {},
   "source": [
    "### Imports"
   ]
  },
  {
   "cell_type": "code",
   "execution_count": 1,
   "metadata": {},
   "outputs": [],
   "source": [
    "# imports\n",
    "\n",
    "import pandas as pd\n",
    "import numpy as np"
   ]
  },
  {
   "cell_type": "code",
   "execution_count": 2,
   "metadata": {},
   "outputs": [],
   "source": [
    "from surprise import Dataset, Reader\n",
    "from surprise import SVD\n",
    "from surprise import accuracy\n",
    "from surprise.model_selection import train_test_split"
   ]
  },
  {
   "cell_type": "markdown",
   "metadata": {},
   "source": [
    "-----------------"
   ]
  },
  {
   "cell_type": "markdown",
   "metadata": {},
   "source": [
    "### File"
   ]
  },
  {
   "cell_type": "code",
   "execution_count": 30,
   "metadata": {},
   "outputs": [
    {
     "data": {
      "text/html": [
       "<div>\n",
       "<style scoped>\n",
       "    .dataframe tbody tr th:only-of-type {\n",
       "        vertical-align: middle;\n",
       "    }\n",
       "\n",
       "    .dataframe tbody tr th {\n",
       "        vertical-align: top;\n",
       "    }\n",
       "\n",
       "    .dataframe thead th {\n",
       "        text-align: right;\n",
       "    }\n",
       "</style>\n",
       "<table border=\"1\" class=\"dataframe\">\n",
       "  <thead>\n",
       "    <tr style=\"text-align: right;\">\n",
       "      <th></th>\n",
       "      <th>userId</th>\n",
       "      <th>movieId</th>\n",
       "      <th>rating</th>\n",
       "      <th>timestamp</th>\n",
       "    </tr>\n",
       "  </thead>\n",
       "  <tbody>\n",
       "    <tr>\n",
       "      <th>0</th>\n",
       "      <td>1</td>\n",
       "      <td>1</td>\n",
       "      <td>4.0</td>\n",
       "      <td>1225734739</td>\n",
       "    </tr>\n",
       "    <tr>\n",
       "      <th>1</th>\n",
       "      <td>1</td>\n",
       "      <td>110</td>\n",
       "      <td>4.0</td>\n",
       "      <td>1225865086</td>\n",
       "    </tr>\n",
       "    <tr>\n",
       "      <th>2</th>\n",
       "      <td>1</td>\n",
       "      <td>158</td>\n",
       "      <td>4.0</td>\n",
       "      <td>1225733503</td>\n",
       "    </tr>\n",
       "    <tr>\n",
       "      <th>3</th>\n",
       "      <td>1</td>\n",
       "      <td>260</td>\n",
       "      <td>4.5</td>\n",
       "      <td>1225735204</td>\n",
       "    </tr>\n",
       "    <tr>\n",
       "      <th>4</th>\n",
       "      <td>1</td>\n",
       "      <td>356</td>\n",
       "      <td>5.0</td>\n",
       "      <td>1225735119</td>\n",
       "    </tr>\n",
       "    <tr>\n",
       "      <th>5</th>\n",
       "      <td>1</td>\n",
       "      <td>381</td>\n",
       "      <td>3.5</td>\n",
       "      <td>1225734105</td>\n",
       "    </tr>\n",
       "    <tr>\n",
       "      <th>6</th>\n",
       "      <td>1</td>\n",
       "      <td>596</td>\n",
       "      <td>4.0</td>\n",
       "      <td>1225733524</td>\n",
       "    </tr>\n",
       "    <tr>\n",
       "      <th>7</th>\n",
       "      <td>1</td>\n",
       "      <td>1036</td>\n",
       "      <td>5.0</td>\n",
       "      <td>1225735626</td>\n",
       "    </tr>\n",
       "    <tr>\n",
       "      <th>8</th>\n",
       "      <td>1</td>\n",
       "      <td>1049</td>\n",
       "      <td>3.0</td>\n",
       "      <td>1225734079</td>\n",
       "    </tr>\n",
       "    <tr>\n",
       "      <th>9</th>\n",
       "      <td>1</td>\n",
       "      <td>1066</td>\n",
       "      <td>4.0</td>\n",
       "      <td>1225736961</td>\n",
       "    </tr>\n",
       "    <tr>\n",
       "      <th>10</th>\n",
       "      <td>1</td>\n",
       "      <td>1196</td>\n",
       "      <td>3.5</td>\n",
       "      <td>1225735441</td>\n",
       "    </tr>\n",
       "    <tr>\n",
       "      <th>11</th>\n",
       "      <td>1</td>\n",
       "      <td>1200</td>\n",
       "      <td>3.5</td>\n",
       "      <td>1225735861</td>\n",
       "    </tr>\n",
       "    <tr>\n",
       "      <th>12</th>\n",
       "      <td>1</td>\n",
       "      <td>1210</td>\n",
       "      <td>4.5</td>\n",
       "      <td>1225735210</td>\n",
       "    </tr>\n",
       "    <tr>\n",
       "      <th>13</th>\n",
       "      <td>1</td>\n",
       "      <td>1214</td>\n",
       "      <td>4.0</td>\n",
       "      <td>1225736426</td>\n",
       "    </tr>\n",
       "    <tr>\n",
       "      <th>14</th>\n",
       "      <td>1</td>\n",
       "      <td>1291</td>\n",
       "      <td>5.0</td>\n",
       "      <td>1225734809</td>\n",
       "    </tr>\n",
       "    <tr>\n",
       "      <th>15</th>\n",
       "      <td>1</td>\n",
       "      <td>1293</td>\n",
       "      <td>2.0</td>\n",
       "      <td>1225733842</td>\n",
       "    </tr>\n",
       "    <tr>\n",
       "      <th>16</th>\n",
       "      <td>1</td>\n",
       "      <td>1376</td>\n",
       "      <td>3.0</td>\n",
       "      <td>1225733539</td>\n",
       "    </tr>\n",
       "    <tr>\n",
       "      <th>17</th>\n",
       "      <td>1</td>\n",
       "      <td>1396</td>\n",
       "      <td>3.0</td>\n",
       "      <td>1225733534</td>\n",
       "    </tr>\n",
       "    <tr>\n",
       "      <th>18</th>\n",
       "      <td>1</td>\n",
       "      <td>1537</td>\n",
       "      <td>4.0</td>\n",
       "      <td>1225736687</td>\n",
       "    </tr>\n",
       "    <tr>\n",
       "      <th>19</th>\n",
       "      <td>1</td>\n",
       "      <td>1909</td>\n",
       "      <td>3.0</td>\n",
       "      <td>1225733717</td>\n",
       "    </tr>\n",
       "  </tbody>\n",
       "</table>\n",
       "</div>"
      ],
      "text/plain": [
       "    userId  movieId  rating   timestamp\n",
       "0        1        1     4.0  1225734739\n",
       "1        1      110     4.0  1225865086\n",
       "2        1      158     4.0  1225733503\n",
       "3        1      260     4.5  1225735204\n",
       "4        1      356     5.0  1225735119\n",
       "5        1      381     3.5  1225734105\n",
       "6        1      596     4.0  1225733524\n",
       "7        1     1036     5.0  1225735626\n",
       "8        1     1049     3.0  1225734079\n",
       "9        1     1066     4.0  1225736961\n",
       "10       1     1196     3.5  1225735441\n",
       "11       1     1200     3.5  1225735861\n",
       "12       1     1210     4.5  1225735210\n",
       "13       1     1214     4.0  1225736426\n",
       "14       1     1291     5.0  1225734809\n",
       "15       1     1293     2.0  1225733842\n",
       "16       1     1376     3.0  1225733539\n",
       "17       1     1396     3.0  1225733534\n",
       "18       1     1537     4.0  1225736687\n",
       "19       1     1909     3.0  1225733717"
      ]
     },
     "execution_count": 30,
     "metadata": {},
     "output_type": "execute_result"
    }
   ],
   "source": [
    "df = pd.read_csv('/Users/zachariamwaura/Documents/Flatiron/Phase_4/Phase_4_Project/DATA/ratings.csv', index_col=False)\n",
    "df.head(20)"
   ]
  },
  {
   "cell_type": "code",
   "execution_count": 4,
   "metadata": {},
   "outputs": [
    {
     "name": "stdout",
     "output_type": "stream",
     "text": [
      "<class 'pandas.core.frame.DataFrame'>\n",
      "RangeIndex: 33832162 entries, 0 to 33832161\n",
      "Data columns (total 4 columns):\n",
      " #   Column     Dtype  \n",
      "---  ------     -----  \n",
      " 0   userId     int64  \n",
      " 1   movieId    int64  \n",
      " 2   rating     float64\n",
      " 3   timestamp  int64  \n",
      "dtypes: float64(1), int64(3)\n",
      "memory usage: 1.0 GB\n"
     ]
    }
   ],
   "source": [
    "df.info()"
   ]
  },
  {
   "cell_type": "code",
   "execution_count": 5,
   "metadata": {},
   "outputs": [
    {
     "data": {
      "text/plain": [
       "userId       0\n",
       "movieId      0\n",
       "rating       0\n",
       "timestamp    0\n",
       "dtype: int64"
      ]
     },
     "execution_count": 5,
     "metadata": {},
     "output_type": "execute_result"
    }
   ],
   "source": [
    "df.isna().sum()"
   ]
  },
  {
   "cell_type": "code",
   "execution_count": 33,
   "metadata": {},
   "outputs": [
    {
     "data": {
      "text/plain": [
       "(1, 288983)"
      ]
     },
     "execution_count": 33,
     "metadata": {},
     "output_type": "execute_result"
    }
   ],
   "source": [
    "df['movieId'].min(), df['movieId'].max()"
   ]
  },
  {
   "cell_type": "code",
   "execution_count": 34,
   "metadata": {},
   "outputs": [
    {
     "data": {
      "text/plain": [
       "movieId\n",
       "318       122296\n",
       "356       113581\n",
       "296       108756\n",
       "2571      107056\n",
       "593       101802\n",
       "           ...  \n",
       "261715         1\n",
       "257463         1\n",
       "256693         1\n",
       "161766         1\n",
       "269782         1\n",
       "Name: count, Length: 83239, dtype: int64"
      ]
     },
     "execution_count": 34,
     "metadata": {},
     "output_type": "execute_result"
    }
   ],
   "source": [
    "df['movieId'].value_counts()"
   ]
  },
  {
   "cell_type": "markdown",
   "metadata": {},
   "source": [
    " ----------"
   ]
  },
  {
   "cell_type": "markdown",
   "metadata": {},
   "source": [
    "#### create sample"
   ]
  },
  {
   "cell_type": "code",
   "execution_count": 6,
   "metadata": {},
   "outputs": [
    {
     "name": "stdout",
     "output_type": "stream",
     "text": [
      "<class 'pandas.core.frame.DataFrame'>\n",
      "Index: 3300000 entries, 33179850 to 33474626\n",
      "Data columns (total 4 columns):\n",
      " #   Column     Dtype  \n",
      "---  ------     -----  \n",
      " 0   userId     int64  \n",
      " 1   movieId    int64  \n",
      " 2   rating     float64\n",
      " 3   timestamp  int64  \n",
      "dtypes: float64(1), int64(3)\n",
      "memory usage: 125.9 MB\n"
     ]
    }
   ],
   "source": [
    "# create big enough sample\n",
    "df_sample = df.sample(n=3300000, random_state=1)\n",
    "df_sample.info()"
   ]
  },
  {
   "cell_type": "code",
   "execution_count": 31,
   "metadata": {},
   "outputs": [
    {
     "data": {
      "text/html": [
       "<div>\n",
       "<style scoped>\n",
       "    .dataframe tbody tr th:only-of-type {\n",
       "        vertical-align: middle;\n",
       "    }\n",
       "\n",
       "    .dataframe tbody tr th {\n",
       "        vertical-align: top;\n",
       "    }\n",
       "\n",
       "    .dataframe thead th {\n",
       "        text-align: right;\n",
       "    }\n",
       "</style>\n",
       "<table border=\"1\" class=\"dataframe\">\n",
       "  <thead>\n",
       "    <tr style=\"text-align: right;\">\n",
       "      <th></th>\n",
       "      <th>userId</th>\n",
       "      <th>movieId</th>\n",
       "      <th>rating</th>\n",
       "      <th>timestamp</th>\n",
       "    </tr>\n",
       "  </thead>\n",
       "  <tbody>\n",
       "    <tr>\n",
       "      <th>33179850</th>\n",
       "      <td>324684</td>\n",
       "      <td>3898</td>\n",
       "      <td>1.5</td>\n",
       "      <td>1144760809</td>\n",
       "    </tr>\n",
       "    <tr>\n",
       "      <th>16176049</th>\n",
       "      <td>158793</td>\n",
       "      <td>922</td>\n",
       "      <td>4.0</td>\n",
       "      <td>1450700720</td>\n",
       "    </tr>\n",
       "    <tr>\n",
       "      <th>32084054</th>\n",
       "      <td>313695</td>\n",
       "      <td>2423</td>\n",
       "      <td>4.0</td>\n",
       "      <td>1133582037</td>\n",
       "    </tr>\n",
       "    <tr>\n",
       "      <th>6082545</th>\n",
       "      <td>59202</td>\n",
       "      <td>5218</td>\n",
       "      <td>3.0</td>\n",
       "      <td>1033884899</td>\n",
       "    </tr>\n",
       "    <tr>\n",
       "      <th>16125818</th>\n",
       "      <td>158269</td>\n",
       "      <td>1779</td>\n",
       "      <td>2.0</td>\n",
       "      <td>1660913035</td>\n",
       "    </tr>\n",
       "    <tr>\n",
       "      <th>27097698</th>\n",
       "      <td>264464</td>\n",
       "      <td>1957</td>\n",
       "      <td>4.0</td>\n",
       "      <td>953067620</td>\n",
       "    </tr>\n",
       "    <tr>\n",
       "      <th>1315136</th>\n",
       "      <td>12727</td>\n",
       "      <td>106782</td>\n",
       "      <td>3.5</td>\n",
       "      <td>1653959620</td>\n",
       "    </tr>\n",
       "    <tr>\n",
       "      <th>32740492</th>\n",
       "      <td>319929</td>\n",
       "      <td>9018</td>\n",
       "      <td>3.5</td>\n",
       "      <td>1469934763</td>\n",
       "    </tr>\n",
       "    <tr>\n",
       "      <th>29604929</th>\n",
       "      <td>289257</td>\n",
       "      <td>166643</td>\n",
       "      <td>3.5</td>\n",
       "      <td>1515856802</td>\n",
       "    </tr>\n",
       "    <tr>\n",
       "      <th>6787316</th>\n",
       "      <td>66339</td>\n",
       "      <td>2105</td>\n",
       "      <td>4.0</td>\n",
       "      <td>1553843526</td>\n",
       "    </tr>\n",
       "    <tr>\n",
       "      <th>7149768</th>\n",
       "      <td>69857</td>\n",
       "      <td>903</td>\n",
       "      <td>5.0</td>\n",
       "      <td>938775879</td>\n",
       "    </tr>\n",
       "    <tr>\n",
       "      <th>15296905</th>\n",
       "      <td>150320</td>\n",
       "      <td>111659</td>\n",
       "      <td>3.0</td>\n",
       "      <td>1670241167</td>\n",
       "    </tr>\n",
       "    <tr>\n",
       "      <th>13768860</th>\n",
       "      <td>135226</td>\n",
       "      <td>1678</td>\n",
       "      <td>5.0</td>\n",
       "      <td>974926635</td>\n",
       "    </tr>\n",
       "    <tr>\n",
       "      <th>28727221</th>\n",
       "      <td>280592</td>\n",
       "      <td>8957</td>\n",
       "      <td>4.0</td>\n",
       "      <td>1203751091</td>\n",
       "    </tr>\n",
       "    <tr>\n",
       "      <th>5539690</th>\n",
       "      <td>53782</td>\n",
       "      <td>111921</td>\n",
       "      <td>3.5</td>\n",
       "      <td>1514730329</td>\n",
       "    </tr>\n",
       "    <tr>\n",
       "      <th>7135066</th>\n",
       "      <td>69697</td>\n",
       "      <td>122922</td>\n",
       "      <td>3.5</td>\n",
       "      <td>1615113197</td>\n",
       "    </tr>\n",
       "    <tr>\n",
       "      <th>17499063</th>\n",
       "      <td>171916</td>\n",
       "      <td>364</td>\n",
       "      <td>4.5</td>\n",
       "      <td>1449033920</td>\n",
       "    </tr>\n",
       "    <tr>\n",
       "      <th>30693231</th>\n",
       "      <td>300007</td>\n",
       "      <td>1645</td>\n",
       "      <td>4.0</td>\n",
       "      <td>1616642398</td>\n",
       "    </tr>\n",
       "    <tr>\n",
       "      <th>21967288</th>\n",
       "      <td>214223</td>\n",
       "      <td>97306</td>\n",
       "      <td>5.0</td>\n",
       "      <td>1403400192</td>\n",
       "    </tr>\n",
       "    <tr>\n",
       "      <th>16634018</th>\n",
       "      <td>163340</td>\n",
       "      <td>2094</td>\n",
       "      <td>4.0</td>\n",
       "      <td>1063529352</td>\n",
       "    </tr>\n",
       "  </tbody>\n",
       "</table>\n",
       "</div>"
      ],
      "text/plain": [
       "          userId  movieId  rating   timestamp\n",
       "33179850  324684     3898     1.5  1144760809\n",
       "16176049  158793      922     4.0  1450700720\n",
       "32084054  313695     2423     4.0  1133582037\n",
       "6082545    59202     5218     3.0  1033884899\n",
       "16125818  158269     1779     2.0  1660913035\n",
       "27097698  264464     1957     4.0   953067620\n",
       "1315136    12727   106782     3.5  1653959620\n",
       "32740492  319929     9018     3.5  1469934763\n",
       "29604929  289257   166643     3.5  1515856802\n",
       "6787316    66339     2105     4.0  1553843526\n",
       "7149768    69857      903     5.0   938775879\n",
       "15296905  150320   111659     3.0  1670241167\n",
       "13768860  135226     1678     5.0   974926635\n",
       "28727221  280592     8957     4.0  1203751091\n",
       "5539690    53782   111921     3.5  1514730329\n",
       "7135066    69697   122922     3.5  1615113197\n",
       "17499063  171916      364     4.5  1449033920\n",
       "30693231  300007     1645     4.0  1616642398\n",
       "21967288  214223    97306     5.0  1403400192\n",
       "16634018  163340     2094     4.0  1063529352"
      ]
     },
     "execution_count": 31,
     "metadata": {},
     "output_type": "execute_result"
    }
   ],
   "source": [
    "df_sample.head(20)"
   ]
  },
  {
   "cell_type": "code",
   "execution_count": 7,
   "metadata": {},
   "outputs": [
    {
     "data": {
      "text/plain": [
       "userId\n",
       "189614    33332\n",
       "48766      9554\n",
       "207216     9178\n",
       "175998     9016\n",
       "76618      8919\n",
       "230765     7719\n",
       "184775     7535\n",
       "236260     7488\n",
       "233891     7372\n",
       "214831     7266\n",
       "221500     6380\n",
       "267315     6199\n",
       "193414     6074\n",
       "113052     5976\n",
       "100696     5806\n",
       "256904     5805\n",
       "211359     5784\n",
       "177589     5693\n",
       "134353     5653\n",
       "73700      5649\n",
       "Name: count, dtype: int64"
      ]
     },
     "execution_count": 7,
     "metadata": {},
     "output_type": "execute_result"
    }
   ],
   "source": [
    "df['userId'].value_counts()[:20]"
   ]
  },
  {
   "cell_type": "markdown",
   "metadata": {},
   "source": [
    "---------------"
   ]
  },
  {
   "cell_type": "markdown",
   "metadata": {},
   "source": [
    "### SVD MODEL"
   ]
  },
  {
   "cell_type": "code",
   "execution_count": 8,
   "metadata": {},
   "outputs": [],
   "source": [
    "reader = Reader(rating_scale=(1,5))\n",
    "data =  Dataset.load_from_df(df_sample[['userId', 'movieId', 'rating']], reader)"
   ]
  },
  {
   "cell_type": "code",
   "execution_count": 9,
   "metadata": {},
   "outputs": [],
   "source": [
    "trainset, testset = train_test_split(data, test_size=0.2, random_state=42)"
   ]
  },
  {
   "cell_type": "code",
   "execution_count": 10,
   "metadata": {},
   "outputs": [],
   "source": [
    "SVD_model = SVD()"
   ]
  },
  {
   "cell_type": "code",
   "execution_count": 11,
   "metadata": {},
   "outputs": [
    {
     "data": {
      "text/plain": [
       "<surprise.prediction_algorithms.matrix_factorization.SVD at 0x11eb4c320>"
      ]
     },
     "execution_count": 11,
     "metadata": {},
     "output_type": "execute_result"
    }
   ],
   "source": [
    "SVD_model.fit(trainset)"
   ]
  },
  {
   "cell_type": "code",
   "execution_count": 12,
   "metadata": {},
   "outputs": [],
   "source": [
    "prediction = SVD_model.test(testset)"
   ]
  },
  {
   "cell_type": "code",
   "execution_count": 13,
   "metadata": {},
   "outputs": [
    {
     "name": "stdout",
     "output_type": "stream",
     "text": [
      "RMSE: 0.9071\n"
     ]
    }
   ],
   "source": [
    "rmse = accuracy.rmse(prediction)"
   ]
  },
  {
   "cell_type": "code",
   "execution_count": 14,
   "metadata": {},
   "outputs": [
    {
     "name": "stdout",
     "output_type": "stream",
     "text": [
      "RMSE: 0.9070680312194619\n"
     ]
    }
   ],
   "source": [
    "print(f'RMSE: {rmse}')"
   ]
  },
  {
   "cell_type": "code",
   "execution_count": 29,
   "metadata": {},
   "outputs": [
    {
     "name": "stdout",
     "output_type": "stream",
     "text": [
      "FCP:  0.6175\n"
     ]
    },
    {
     "data": {
      "text/plain": [
       "0.6175236440850813"
      ]
     },
     "execution_count": 29,
     "metadata": {},
     "output_type": "execute_result"
    }
   ],
   "source": [
    "accuracy.fcp(prediction)"
   ]
  },
  {
   "cell_type": "markdown",
   "metadata": {},
   "source": [
    "------------"
   ]
  },
  {
   "cell_type": "code",
   "execution_count": 15,
   "metadata": {},
   "outputs": [
    {
     "data": {
      "text/html": [
       "<div>\n",
       "<style scoped>\n",
       "    .dataframe tbody tr th:only-of-type {\n",
       "        vertical-align: middle;\n",
       "    }\n",
       "\n",
       "    .dataframe tbody tr th {\n",
       "        vertical-align: top;\n",
       "    }\n",
       "\n",
       "    .dataframe thead th {\n",
       "        text-align: right;\n",
       "    }\n",
       "</style>\n",
       "<table border=\"1\" class=\"dataframe\">\n",
       "  <thead>\n",
       "    <tr style=\"text-align: right;\">\n",
       "      <th></th>\n",
       "      <th>uid</th>\n",
       "      <th>iid</th>\n",
       "      <th>r_ui</th>\n",
       "      <th>est</th>\n",
       "      <th>details</th>\n",
       "    </tr>\n",
       "  </thead>\n",
       "  <tbody>\n",
       "    <tr>\n",
       "      <th>0</th>\n",
       "      <td>204354</td>\n",
       "      <td>364</td>\n",
       "      <td>5.0</td>\n",
       "      <td>4.179530</td>\n",
       "      <td>{'was_impossible': False}</td>\n",
       "    </tr>\n",
       "    <tr>\n",
       "      <th>1</th>\n",
       "      <td>26901</td>\n",
       "      <td>1968</td>\n",
       "      <td>2.0</td>\n",
       "      <td>3.426747</td>\n",
       "      <td>{'was_impossible': False}</td>\n",
       "    </tr>\n",
       "    <tr>\n",
       "      <th>2</th>\n",
       "      <td>126268</td>\n",
       "      <td>4993</td>\n",
       "      <td>4.5</td>\n",
       "      <td>3.906216</td>\n",
       "      <td>{'was_impossible': False}</td>\n",
       "    </tr>\n",
       "    <tr>\n",
       "      <th>3</th>\n",
       "      <td>40578</td>\n",
       "      <td>2125</td>\n",
       "      <td>4.0</td>\n",
       "      <td>3.132345</td>\n",
       "      <td>{'was_impossible': False}</td>\n",
       "    </tr>\n",
       "    <tr>\n",
       "      <th>4</th>\n",
       "      <td>173765</td>\n",
       "      <td>344</td>\n",
       "      <td>4.0</td>\n",
       "      <td>3.197198</td>\n",
       "      <td>{'was_impossible': False}</td>\n",
       "    </tr>\n",
       "    <tr>\n",
       "      <th>...</th>\n",
       "      <td>...</td>\n",
       "      <td>...</td>\n",
       "      <td>...</td>\n",
       "      <td>...</td>\n",
       "      <td>...</td>\n",
       "    </tr>\n",
       "    <tr>\n",
       "      <th>659995</th>\n",
       "      <td>270051</td>\n",
       "      <td>83613</td>\n",
       "      <td>2.5</td>\n",
       "      <td>2.685898</td>\n",
       "      <td>{'was_impossible': False}</td>\n",
       "    </tr>\n",
       "    <tr>\n",
       "      <th>659996</th>\n",
       "      <td>303606</td>\n",
       "      <td>248</td>\n",
       "      <td>3.0</td>\n",
       "      <td>3.411349</td>\n",
       "      <td>{'was_impossible': False}</td>\n",
       "    </tr>\n",
       "    <tr>\n",
       "      <th>659997</th>\n",
       "      <td>81014</td>\n",
       "      <td>2565</td>\n",
       "      <td>4.0</td>\n",
       "      <td>3.361431</td>\n",
       "      <td>{'was_impossible': False}</td>\n",
       "    </tr>\n",
       "    <tr>\n",
       "      <th>659998</th>\n",
       "      <td>101226</td>\n",
       "      <td>8965</td>\n",
       "      <td>3.5</td>\n",
       "      <td>2.874387</td>\n",
       "      <td>{'was_impossible': False}</td>\n",
       "    </tr>\n",
       "    <tr>\n",
       "      <th>659999</th>\n",
       "      <td>148808</td>\n",
       "      <td>354</td>\n",
       "      <td>3.0</td>\n",
       "      <td>3.249680</td>\n",
       "      <td>{'was_impossible': False}</td>\n",
       "    </tr>\n",
       "  </tbody>\n",
       "</table>\n",
       "<p>660000 rows × 5 columns</p>\n",
       "</div>"
      ],
      "text/plain": [
       "           uid    iid  r_ui       est                    details\n",
       "0       204354    364   5.0  4.179530  {'was_impossible': False}\n",
       "1        26901   1968   2.0  3.426747  {'was_impossible': False}\n",
       "2       126268   4993   4.5  3.906216  {'was_impossible': False}\n",
       "3        40578   2125   4.0  3.132345  {'was_impossible': False}\n",
       "4       173765    344   4.0  3.197198  {'was_impossible': False}\n",
       "...        ...    ...   ...       ...                        ...\n",
       "659995  270051  83613   2.5  2.685898  {'was_impossible': False}\n",
       "659996  303606    248   3.0  3.411349  {'was_impossible': False}\n",
       "659997   81014   2565   4.0  3.361431  {'was_impossible': False}\n",
       "659998  101226   8965   3.5  2.874387  {'was_impossible': False}\n",
       "659999  148808    354   3.0  3.249680  {'was_impossible': False}\n",
       "\n",
       "[660000 rows x 5 columns]"
      ]
     },
     "execution_count": 15,
     "metadata": {},
     "output_type": "execute_result"
    }
   ],
   "source": [
    "pred = pd.DataFrame(prediction)\n",
    "pred"
   ]
  },
  {
   "cell_type": "code",
   "execution_count": 16,
   "metadata": {},
   "outputs": [
    {
     "data": {
      "text/plain": [
       "uid\n",
       "189614    692\n",
       "48766     205\n",
       "207216    190\n",
       "175998    177\n",
       "184775    160\n",
       "230765    158\n",
       "76618     155\n",
       "233891    155\n",
       "113052    133\n",
       "236260    131\n",
       "Name: count, dtype: int64"
      ]
     },
     "execution_count": 16,
     "metadata": {},
     "output_type": "execute_result"
    }
   ],
   "source": [
    "pred['uid'].value_counts()[:10]"
   ]
  },
  {
   "cell_type": "code",
   "execution_count": 17,
   "metadata": {},
   "outputs": [],
   "source": [
    "user_id = 189614\n",
    "movie_id = 364"
   ]
  },
  {
   "cell_type": "code",
   "execution_count": 18,
   "metadata": {},
   "outputs": [],
   "source": [
    "predictions = SVD_model.predict(user_id, movie_id)"
   ]
  },
  {
   "cell_type": "code",
   "execution_count": 19,
   "metadata": {},
   "outputs": [
    {
     "name": "stdout",
     "output_type": "stream",
     "text": [
      "Predicted rating for user 189614 and movie 364: 3.155539934237252\n"
     ]
    }
   ],
   "source": [
    "print(f\"Predicted rating for user {user_id} and movie {movie_id}: {predictions.est}\")"
   ]
  },
  {
   "cell_type": "markdown",
   "metadata": {},
   "source": [
    "-----------"
   ]
  },
  {
   "cell_type": "markdown",
   "metadata": {},
   "source": [
    "#### top 5"
   ]
  },
  {
   "cell_type": "code",
   "execution_count": 26,
   "metadata": {},
   "outputs": [],
   "source": [
    "def get_top_n_recommendations(prediction, n=5):\n",
    "    # Build a dictionary of predictions for each user\n",
    "    top_n = {}\n",
    "    for uid, iid, true_r, est, _ in prediction:\n",
    "        if uid not in top_n:\n",
    "            top_n[uid] = []\n",
    "        top_n[uid].append((iid, est))\n",
    "\n",
    "    # Now sort the predictions for each user and get the n highest rated items\n",
    "    for uid, user_ratings in top_n.items():\n",
    "        user_ratings.sort(key=lambda x: x[1], reverse=True)\n",
    "        top_n[uid] = user_ratings[:n]\n",
    "\n",
    "    return top_n"
   ]
  },
  {
   "cell_type": "code",
   "execution_count": 27,
   "metadata": {},
   "outputs": [],
   "source": [
    "top_n_recommendations = get_top_n_recommendations(prediction, n=5)"
   ]
  },
  {
   "cell_type": "code",
   "execution_count": 28,
   "metadata": {},
   "outputs": [
    {
     "name": "stdout",
     "output_type": "stream",
     "text": [
      "Top 5 recommendations for user 189614:\n",
      "Movie ID: 1193, Predicted Rating: 4.15\n",
      "Movie ID: 953, Predicted Rating: 3.84\n",
      "Movie ID: 8014, Predicted Rating: 3.81\n",
      "Movie ID: 80906, Predicted Rating: 3.80\n",
      "Movie ID: 134089, Predicted Rating: 3.78\n"
     ]
    }
   ],
   "source": [
    "user_id = 189614\n",
    "top_5_for_user = top_n_recommendations.get(user_id, [])\n",
    "print(f\"Top 5 recommendations for user {user_id}:\")\n",
    "for movie_id, est_rating in top_5_for_user:\n",
    "    print(f\"Movie ID: {movie_id}, Predicted Rating: {est_rating:.2f}\")"
   ]
  },
  {
   "cell_type": "markdown",
   "metadata": {},
   "source": [
    "------------"
   ]
  },
  {
   "cell_type": "code",
   "execution_count": null,
   "metadata": {},
   "outputs": [],
   "source": []
  }
 ],
 "metadata": {
  "kernelspec": {
   "display_name": "Python (mylearnenv)",
   "language": "python",
   "name": "mylearnenv"
  },
  "language_info": {
   "codemirror_mode": {
    "name": "ipython",
    "version": 3
   },
   "file_extension": ".py",
   "mimetype": "text/x-python",
   "name": "python",
   "nbconvert_exporter": "python",
   "pygments_lexer": "ipython3",
   "version": "3.12.4"
  }
 },
 "nbformat": 4,
 "nbformat_minor": 2
}
