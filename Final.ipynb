{
 "cells": [
  {
   "cell_type": "markdown",
   "metadata": {},
   "source": [
    "# Model Experiments"
   ]
  },
  {
   "cell_type": "markdown",
   "metadata": {
    "vscode": {
     "languageId": "plaintext"
    }
   },
   "source": [
    "## Imports"
   ]
  },
  {
   "cell_type": "code",
   "execution_count": 1,
   "metadata": {},
   "outputs": [],
   "source": [
    "import pandas as pd\n",
    "import numpy as np"
   ]
  },
  {
   "cell_type": "code",
   "execution_count": 2,
   "metadata": {},
   "outputs": [],
   "source": [
    "from surprise import SVD, Dataset, Reader\n",
    "from surprise.model_selection import train_test_split, cross_validate, GridSearchCV\n",
    "from surprise import accuracy"
   ]
  },
  {
   "cell_type": "markdown",
   "metadata": {
    "vscode": {
     "languageId": "plaintext"
    }
   },
   "source": [
    "## Files"
   ]
  },
  {
   "cell_type": "code",
   "execution_count": 3,
   "metadata": {},
   "outputs": [
    {
     "data": {
      "text/html": [
       "<div>\n",
       "<style scoped>\n",
       "    .dataframe tbody tr th:only-of-type {\n",
       "        vertical-align: middle;\n",
       "    }\n",
       "\n",
       "    .dataframe tbody tr th {\n",
       "        vertical-align: top;\n",
       "    }\n",
       "\n",
       "    .dataframe thead th {\n",
       "        text-align: right;\n",
       "    }\n",
       "</style>\n",
       "<table border=\"1\" class=\"dataframe\">\n",
       "  <thead>\n",
       "    <tr style=\"text-align: right;\">\n",
       "      <th></th>\n",
       "      <th>userId</th>\n",
       "      <th>movieId</th>\n",
       "      <th>rating</th>\n",
       "      <th>timestamp</th>\n",
       "    </tr>\n",
       "  </thead>\n",
       "  <tbody>\n",
       "    <tr>\n",
       "      <th>0</th>\n",
       "      <td>1</td>\n",
       "      <td>1</td>\n",
       "      <td>4.0</td>\n",
       "      <td>1225734739</td>\n",
       "    </tr>\n",
       "    <tr>\n",
       "      <th>1</th>\n",
       "      <td>1</td>\n",
       "      <td>110</td>\n",
       "      <td>4.0</td>\n",
       "      <td>1225865086</td>\n",
       "    </tr>\n",
       "    <tr>\n",
       "      <th>2</th>\n",
       "      <td>1</td>\n",
       "      <td>158</td>\n",
       "      <td>4.0</td>\n",
       "      <td>1225733503</td>\n",
       "    </tr>\n",
       "    <tr>\n",
       "      <th>3</th>\n",
       "      <td>1</td>\n",
       "      <td>260</td>\n",
       "      <td>4.5</td>\n",
       "      <td>1225735204</td>\n",
       "    </tr>\n",
       "    <tr>\n",
       "      <th>4</th>\n",
       "      <td>1</td>\n",
       "      <td>356</td>\n",
       "      <td>5.0</td>\n",
       "      <td>1225735119</td>\n",
       "    </tr>\n",
       "  </tbody>\n",
       "</table>\n",
       "</div>"
      ],
      "text/plain": [
       "   userId  movieId  rating   timestamp\n",
       "0       1        1     4.0  1225734739\n",
       "1       1      110     4.0  1225865086\n",
       "2       1      158     4.0  1225733503\n",
       "3       1      260     4.5  1225735204\n",
       "4       1      356     5.0  1225735119"
      ]
     },
     "execution_count": 3,
     "metadata": {},
     "output_type": "execute_result"
    }
   ],
   "source": [
    "### ratings.csv\n",
    "\n",
    "ratings = pd.read_csv('DATA/ratings.csv', index_col=False)\n",
    "ratings.head()"
   ]
  },
  {
   "cell_type": "code",
   "execution_count": 4,
   "metadata": {},
   "outputs": [
    {
     "name": "stdout",
     "output_type": "stream",
     "text": [
      "<class 'pandas.core.frame.DataFrame'>\n",
      "RangeIndex: 33832162 entries, 0 to 33832161\n",
      "Data columns (total 4 columns):\n",
      " #   Column     Dtype  \n",
      "---  ------     -----  \n",
      " 0   userId     int64  \n",
      " 1   movieId    int64  \n",
      " 2   rating     float64\n",
      " 3   timestamp  int64  \n",
      "dtypes: float64(1), int64(3)\n",
      "memory usage: 1.0 GB\n"
     ]
    }
   ],
   "source": [
    "ratings.info()"
   ]
  },
  {
   "cell_type": "code",
   "execution_count": 5,
   "metadata": {},
   "outputs": [
    {
     "data": {
      "text/html": [
       "<div>\n",
       "<style scoped>\n",
       "    .dataframe tbody tr th:only-of-type {\n",
       "        vertical-align: middle;\n",
       "    }\n",
       "\n",
       "    .dataframe tbody tr th {\n",
       "        vertical-align: top;\n",
       "    }\n",
       "\n",
       "    .dataframe thead th {\n",
       "        text-align: right;\n",
       "    }\n",
       "</style>\n",
       "<table border=\"1\" class=\"dataframe\">\n",
       "  <thead>\n",
       "    <tr style=\"text-align: right;\">\n",
       "      <th></th>\n",
       "      <th>movieId</th>\n",
       "      <th>title</th>\n",
       "      <th>genres</th>\n",
       "    </tr>\n",
       "  </thead>\n",
       "  <tbody>\n",
       "    <tr>\n",
       "      <th>0</th>\n",
       "      <td>1</td>\n",
       "      <td>Toy Story (1995)</td>\n",
       "      <td>Adventure|Animation|Children|Comedy|Fantasy</td>\n",
       "    </tr>\n",
       "    <tr>\n",
       "      <th>1</th>\n",
       "      <td>2</td>\n",
       "      <td>Jumanji (1995)</td>\n",
       "      <td>Adventure|Children|Fantasy</td>\n",
       "    </tr>\n",
       "    <tr>\n",
       "      <th>2</th>\n",
       "      <td>3</td>\n",
       "      <td>Grumpier Old Men (1995)</td>\n",
       "      <td>Comedy|Romance</td>\n",
       "    </tr>\n",
       "    <tr>\n",
       "      <th>3</th>\n",
       "      <td>4</td>\n",
       "      <td>Waiting to Exhale (1995)</td>\n",
       "      <td>Comedy|Drama|Romance</td>\n",
       "    </tr>\n",
       "    <tr>\n",
       "      <th>4</th>\n",
       "      <td>5</td>\n",
       "      <td>Father of the Bride Part II (1995)</td>\n",
       "      <td>Comedy</td>\n",
       "    </tr>\n",
       "  </tbody>\n",
       "</table>\n",
       "</div>"
      ],
      "text/plain": [
       "   movieId                               title  \\\n",
       "0        1                    Toy Story (1995)   \n",
       "1        2                      Jumanji (1995)   \n",
       "2        3             Grumpier Old Men (1995)   \n",
       "3        4            Waiting to Exhale (1995)   \n",
       "4        5  Father of the Bride Part II (1995)   \n",
       "\n",
       "                                        genres  \n",
       "0  Adventure|Animation|Children|Comedy|Fantasy  \n",
       "1                   Adventure|Children|Fantasy  \n",
       "2                               Comedy|Romance  \n",
       "3                         Comedy|Drama|Romance  \n",
       "4                                       Comedy  "
      ]
     },
     "execution_count": 5,
     "metadata": {},
     "output_type": "execute_result"
    }
   ],
   "source": [
    "### movies.csv\n",
    "\n",
    "movies = pd.read_csv('DATA/movies.csv', index_col=False)\n",
    "movies.head()"
   ]
  },
  {
   "cell_type": "code",
   "execution_count": 6,
   "metadata": {},
   "outputs": [
    {
     "name": "stdout",
     "output_type": "stream",
     "text": [
      "<class 'pandas.core.frame.DataFrame'>\n",
      "RangeIndex: 86537 entries, 0 to 86536\n",
      "Data columns (total 3 columns):\n",
      " #   Column   Non-Null Count  Dtype \n",
      "---  ------   --------------  ----- \n",
      " 0   movieId  86537 non-null  int64 \n",
      " 1   title    86537 non-null  object\n",
      " 2   genres   86537 non-null  object\n",
      "dtypes: int64(1), object(2)\n",
      "memory usage: 2.0+ MB\n"
     ]
    }
   ],
   "source": [
    "movies.info()"
   ]
  },
  {
   "cell_type": "markdown",
   "metadata": {
    "vscode": {
     "languageId": "plaintext"
    }
   },
   "source": [
    "### Merge"
   ]
  },
  {
   "cell_type": "code",
   "execution_count": 7,
   "metadata": {},
   "outputs": [
    {
     "data": {
      "text/html": [
       "<div>\n",
       "<style scoped>\n",
       "    .dataframe tbody tr th:only-of-type {\n",
       "        vertical-align: middle;\n",
       "    }\n",
       "\n",
       "    .dataframe tbody tr th {\n",
       "        vertical-align: top;\n",
       "    }\n",
       "\n",
       "    .dataframe thead th {\n",
       "        text-align: right;\n",
       "    }\n",
       "</style>\n",
       "<table border=\"1\" class=\"dataframe\">\n",
       "  <thead>\n",
       "    <tr style=\"text-align: right;\">\n",
       "      <th></th>\n",
       "      <th>userId</th>\n",
       "      <th>movieId</th>\n",
       "      <th>rating</th>\n",
       "      <th>timestamp</th>\n",
       "      <th>title</th>\n",
       "      <th>genres</th>\n",
       "    </tr>\n",
       "  </thead>\n",
       "  <tbody>\n",
       "    <tr>\n",
       "      <th>0</th>\n",
       "      <td>1.0</td>\n",
       "      <td>1</td>\n",
       "      <td>4.0</td>\n",
       "      <td>1.225735e+09</td>\n",
       "      <td>Toy Story (1995)</td>\n",
       "      <td>Adventure|Animation|Children|Comedy|Fantasy</td>\n",
       "    </tr>\n",
       "    <tr>\n",
       "      <th>1</th>\n",
       "      <td>2.0</td>\n",
       "      <td>1</td>\n",
       "      <td>5.0</td>\n",
       "      <td>8.358160e+08</td>\n",
       "      <td>Toy Story (1995)</td>\n",
       "      <td>Adventure|Animation|Children|Comedy|Fantasy</td>\n",
       "    </tr>\n",
       "    <tr>\n",
       "      <th>2</th>\n",
       "      <td>7.0</td>\n",
       "      <td>1</td>\n",
       "      <td>4.0</td>\n",
       "      <td>9.745180e+08</td>\n",
       "      <td>Toy Story (1995)</td>\n",
       "      <td>Adventure|Animation|Children|Comedy|Fantasy</td>\n",
       "    </tr>\n",
       "    <tr>\n",
       "      <th>3</th>\n",
       "      <td>10.0</td>\n",
       "      <td>1</td>\n",
       "      <td>3.0</td>\n",
       "      <td>1.430666e+09</td>\n",
       "      <td>Toy Story (1995)</td>\n",
       "      <td>Adventure|Animation|Children|Comedy|Fantasy</td>\n",
       "    </tr>\n",
       "    <tr>\n",
       "      <th>4</th>\n",
       "      <td>12.0</td>\n",
       "      <td>1</td>\n",
       "      <td>5.0</td>\n",
       "      <td>8.625007e+08</td>\n",
       "      <td>Toy Story (1995)</td>\n",
       "      <td>Adventure|Animation|Children|Comedy|Fantasy</td>\n",
       "    </tr>\n",
       "  </tbody>\n",
       "</table>\n",
       "</div>"
      ],
      "text/plain": [
       "   userId  movieId  rating     timestamp             title  \\\n",
       "0     1.0        1     4.0  1.225735e+09  Toy Story (1995)   \n",
       "1     2.0        1     5.0  8.358160e+08  Toy Story (1995)   \n",
       "2     7.0        1     4.0  9.745180e+08  Toy Story (1995)   \n",
       "3    10.0        1     3.0  1.430666e+09  Toy Story (1995)   \n",
       "4    12.0        1     5.0  8.625007e+08  Toy Story (1995)   \n",
       "\n",
       "                                        genres  \n",
       "0  Adventure|Animation|Children|Comedy|Fantasy  \n",
       "1  Adventure|Animation|Children|Comedy|Fantasy  \n",
       "2  Adventure|Animation|Children|Comedy|Fantasy  \n",
       "3  Adventure|Animation|Children|Comedy|Fantasy  \n",
       "4  Adventure|Animation|Children|Comedy|Fantasy  "
      ]
     },
     "execution_count": 7,
     "metadata": {},
     "output_type": "execute_result"
    }
   ],
   "source": [
    "mr = pd.merge(ratings, movies, on='movieId', how='outer')\n",
    "mr.head()"
   ]
  },
  {
   "cell_type": "code",
   "execution_count": 8,
   "metadata": {},
   "outputs": [
    {
     "data": {
      "text/html": [
       "<div>\n",
       "<style scoped>\n",
       "    .dataframe tbody tr th:only-of-type {\n",
       "        vertical-align: middle;\n",
       "    }\n",
       "\n",
       "    .dataframe tbody tr th {\n",
       "        vertical-align: top;\n",
       "    }\n",
       "\n",
       "    .dataframe thead th {\n",
       "        text-align: right;\n",
       "    }\n",
       "</style>\n",
       "<table border=\"1\" class=\"dataframe\">\n",
       "  <thead>\n",
       "    <tr style=\"text-align: right;\">\n",
       "      <th></th>\n",
       "      <th>userId</th>\n",
       "      <th>movieId</th>\n",
       "      <th>rating</th>\n",
       "      <th>title</th>\n",
       "      <th>genres</th>\n",
       "    </tr>\n",
       "  </thead>\n",
       "  <tbody>\n",
       "    <tr>\n",
       "      <th>0</th>\n",
       "      <td>1.0</td>\n",
       "      <td>1</td>\n",
       "      <td>4.0</td>\n",
       "      <td>Toy Story (1995)</td>\n",
       "      <td>Adventure|Animation|Children|Comedy|Fantasy</td>\n",
       "    </tr>\n",
       "    <tr>\n",
       "      <th>1</th>\n",
       "      <td>2.0</td>\n",
       "      <td>1</td>\n",
       "      <td>5.0</td>\n",
       "      <td>Toy Story (1995)</td>\n",
       "      <td>Adventure|Animation|Children|Comedy|Fantasy</td>\n",
       "    </tr>\n",
       "    <tr>\n",
       "      <th>2</th>\n",
       "      <td>7.0</td>\n",
       "      <td>1</td>\n",
       "      <td>4.0</td>\n",
       "      <td>Toy Story (1995)</td>\n",
       "      <td>Adventure|Animation|Children|Comedy|Fantasy</td>\n",
       "    </tr>\n",
       "    <tr>\n",
       "      <th>3</th>\n",
       "      <td>10.0</td>\n",
       "      <td>1</td>\n",
       "      <td>3.0</td>\n",
       "      <td>Toy Story (1995)</td>\n",
       "      <td>Adventure|Animation|Children|Comedy|Fantasy</td>\n",
       "    </tr>\n",
       "    <tr>\n",
       "      <th>4</th>\n",
       "      <td>12.0</td>\n",
       "      <td>1</td>\n",
       "      <td>5.0</td>\n",
       "      <td>Toy Story (1995)</td>\n",
       "      <td>Adventure|Animation|Children|Comedy|Fantasy</td>\n",
       "    </tr>\n",
       "    <tr>\n",
       "      <th>...</th>\n",
       "      <td>...</td>\n",
       "      <td>...</td>\n",
       "      <td>...</td>\n",
       "      <td>...</td>\n",
       "      <td>...</td>\n",
       "    </tr>\n",
       "    <tr>\n",
       "      <th>33835455</th>\n",
       "      <td>47791.0</td>\n",
       "      <td>288967</td>\n",
       "      <td>3.5</td>\n",
       "      <td>State of Siege: Temple Attack (2021)</td>\n",
       "      <td>Action|Drama</td>\n",
       "    </tr>\n",
       "    <tr>\n",
       "      <th>33835456</th>\n",
       "      <td>98408.0</td>\n",
       "      <td>288971</td>\n",
       "      <td>0.5</td>\n",
       "      <td>Ouija Japan (2021)</td>\n",
       "      <td>Action|Horror</td>\n",
       "    </tr>\n",
       "    <tr>\n",
       "      <th>33835457</th>\n",
       "      <td>154483.0</td>\n",
       "      <td>288975</td>\n",
       "      <td>4.0</td>\n",
       "      <td>The Men Who Made the Movies: Howard Hawks (1973)</td>\n",
       "      <td>Documentary</td>\n",
       "    </tr>\n",
       "    <tr>\n",
       "      <th>33835458</th>\n",
       "      <td>291389.0</td>\n",
       "      <td>288977</td>\n",
       "      <td>3.0</td>\n",
       "      <td>Skinford: Death Sentence (2023)</td>\n",
       "      <td>Crime|Thriller</td>\n",
       "    </tr>\n",
       "    <tr>\n",
       "      <th>33835459</th>\n",
       "      <td>254114.0</td>\n",
       "      <td>288983</td>\n",
       "      <td>3.0</td>\n",
       "      <td>UNZIPPED: An Autopsy of American Inequality (2...</td>\n",
       "      <td>Documentary</td>\n",
       "    </tr>\n",
       "  </tbody>\n",
       "</table>\n",
       "<p>33835460 rows × 5 columns</p>\n",
       "</div>"
      ],
      "text/plain": [
       "            userId  movieId  rating  \\\n",
       "0              1.0        1     4.0   \n",
       "1              2.0        1     5.0   \n",
       "2              7.0        1     4.0   \n",
       "3             10.0        1     3.0   \n",
       "4             12.0        1     5.0   \n",
       "...            ...      ...     ...   \n",
       "33835455   47791.0   288967     3.5   \n",
       "33835456   98408.0   288971     0.5   \n",
       "33835457  154483.0   288975     4.0   \n",
       "33835458  291389.0   288977     3.0   \n",
       "33835459  254114.0   288983     3.0   \n",
       "\n",
       "                                                      title  \\\n",
       "0                                          Toy Story (1995)   \n",
       "1                                          Toy Story (1995)   \n",
       "2                                          Toy Story (1995)   \n",
       "3                                          Toy Story (1995)   \n",
       "4                                          Toy Story (1995)   \n",
       "...                                                     ...   \n",
       "33835455               State of Siege: Temple Attack (2021)   \n",
       "33835456                                 Ouija Japan (2021)   \n",
       "33835457   The Men Who Made the Movies: Howard Hawks (1973)   \n",
       "33835458                    Skinford: Death Sentence (2023)   \n",
       "33835459  UNZIPPED: An Autopsy of American Inequality (2...   \n",
       "\n",
       "                                               genres  \n",
       "0         Adventure|Animation|Children|Comedy|Fantasy  \n",
       "1         Adventure|Animation|Children|Comedy|Fantasy  \n",
       "2         Adventure|Animation|Children|Comedy|Fantasy  \n",
       "3         Adventure|Animation|Children|Comedy|Fantasy  \n",
       "4         Adventure|Animation|Children|Comedy|Fantasy  \n",
       "...                                               ...  \n",
       "33835455                                 Action|Drama  \n",
       "33835456                                Action|Horror  \n",
       "33835457                                  Documentary  \n",
       "33835458                               Crime|Thriller  \n",
       "33835459                                  Documentary  \n",
       "\n",
       "[33835460 rows x 5 columns]"
      ]
     },
     "execution_count": 8,
     "metadata": {},
     "output_type": "execute_result"
    }
   ],
   "source": [
    "mr = mr.drop('timestamp', axis=1)\n",
    "mr"
   ]
  },
  {
   "cell_type": "code",
   "execution_count": 9,
   "metadata": {},
   "outputs": [
    {
     "data": {
      "text/plain": [
       "userId     3298\n",
       "movieId       0\n",
       "rating     3298\n",
       "title         0\n",
       "genres        0\n",
       "dtype: int64"
      ]
     },
     "execution_count": 9,
     "metadata": {},
     "output_type": "execute_result"
    }
   ],
   "source": [
    "mr.isna().sum()"
   ]
  },
  {
   "cell_type": "code",
   "execution_count": 10,
   "metadata": {},
   "outputs": [],
   "source": [
    "mr = mr.dropna()"
   ]
  },
  {
   "cell_type": "code",
   "execution_count": 11,
   "metadata": {},
   "outputs": [
    {
     "data": {
      "text/plain": [
       "userId     0\n",
       "movieId    0\n",
       "rating     0\n",
       "title      0\n",
       "genres     0\n",
       "dtype: int64"
      ]
     },
     "execution_count": 11,
     "metadata": {},
     "output_type": "execute_result"
    }
   ],
   "source": [
    "mr.isna().sum()"
   ]
  },
  {
   "cell_type": "code",
   "execution_count": 12,
   "metadata": {},
   "outputs": [
    {
     "name": "stderr",
     "output_type": "stream",
     "text": [
      "/var/folders/0_/jyfznr0x5q53rj2pvwf26qbw0000gn/T/ipykernel_3655/661928600.py:1: SettingWithCopyWarning: \n",
      "A value is trying to be set on a copy of a slice from a DataFrame.\n",
      "Try using .loc[row_indexer,col_indexer] = value instead\n",
      "\n",
      "See the caveats in the documentation: https://pandas.pydata.org/pandas-docs/stable/user_guide/indexing.html#returning-a-view-versus-a-copy\n",
      "  mr['userId'] = mr['userId'].astype(int)\n"
     ]
    },
    {
     "data": {
      "text/html": [
       "<div>\n",
       "<style scoped>\n",
       "    .dataframe tbody tr th:only-of-type {\n",
       "        vertical-align: middle;\n",
       "    }\n",
       "\n",
       "    .dataframe tbody tr th {\n",
       "        vertical-align: top;\n",
       "    }\n",
       "\n",
       "    .dataframe thead th {\n",
       "        text-align: right;\n",
       "    }\n",
       "</style>\n",
       "<table border=\"1\" class=\"dataframe\">\n",
       "  <thead>\n",
       "    <tr style=\"text-align: right;\">\n",
       "      <th></th>\n",
       "      <th>userId</th>\n",
       "      <th>movieId</th>\n",
       "      <th>rating</th>\n",
       "      <th>title</th>\n",
       "      <th>genres</th>\n",
       "    </tr>\n",
       "  </thead>\n",
       "  <tbody>\n",
       "    <tr>\n",
       "      <th>0</th>\n",
       "      <td>1</td>\n",
       "      <td>1</td>\n",
       "      <td>4.0</td>\n",
       "      <td>Toy Story (1995)</td>\n",
       "      <td>Adventure|Animation|Children|Comedy|Fantasy</td>\n",
       "    </tr>\n",
       "    <tr>\n",
       "      <th>1</th>\n",
       "      <td>2</td>\n",
       "      <td>1</td>\n",
       "      <td>5.0</td>\n",
       "      <td>Toy Story (1995)</td>\n",
       "      <td>Adventure|Animation|Children|Comedy|Fantasy</td>\n",
       "    </tr>\n",
       "    <tr>\n",
       "      <th>2</th>\n",
       "      <td>7</td>\n",
       "      <td>1</td>\n",
       "      <td>4.0</td>\n",
       "      <td>Toy Story (1995)</td>\n",
       "      <td>Adventure|Animation|Children|Comedy|Fantasy</td>\n",
       "    </tr>\n",
       "    <tr>\n",
       "      <th>3</th>\n",
       "      <td>10</td>\n",
       "      <td>1</td>\n",
       "      <td>3.0</td>\n",
       "      <td>Toy Story (1995)</td>\n",
       "      <td>Adventure|Animation|Children|Comedy|Fantasy</td>\n",
       "    </tr>\n",
       "    <tr>\n",
       "      <th>4</th>\n",
       "      <td>12</td>\n",
       "      <td>1</td>\n",
       "      <td>5.0</td>\n",
       "      <td>Toy Story (1995)</td>\n",
       "      <td>Adventure|Animation|Children|Comedy|Fantasy</td>\n",
       "    </tr>\n",
       "    <tr>\n",
       "      <th>...</th>\n",
       "      <td>...</td>\n",
       "      <td>...</td>\n",
       "      <td>...</td>\n",
       "      <td>...</td>\n",
       "      <td>...</td>\n",
       "    </tr>\n",
       "    <tr>\n",
       "      <th>33835455</th>\n",
       "      <td>47791</td>\n",
       "      <td>288967</td>\n",
       "      <td>3.5</td>\n",
       "      <td>State of Siege: Temple Attack (2021)</td>\n",
       "      <td>Action|Drama</td>\n",
       "    </tr>\n",
       "    <tr>\n",
       "      <th>33835456</th>\n",
       "      <td>98408</td>\n",
       "      <td>288971</td>\n",
       "      <td>0.5</td>\n",
       "      <td>Ouija Japan (2021)</td>\n",
       "      <td>Action|Horror</td>\n",
       "    </tr>\n",
       "    <tr>\n",
       "      <th>33835457</th>\n",
       "      <td>154483</td>\n",
       "      <td>288975</td>\n",
       "      <td>4.0</td>\n",
       "      <td>The Men Who Made the Movies: Howard Hawks (1973)</td>\n",
       "      <td>Documentary</td>\n",
       "    </tr>\n",
       "    <tr>\n",
       "      <th>33835458</th>\n",
       "      <td>291389</td>\n",
       "      <td>288977</td>\n",
       "      <td>3.0</td>\n",
       "      <td>Skinford: Death Sentence (2023)</td>\n",
       "      <td>Crime|Thriller</td>\n",
       "    </tr>\n",
       "    <tr>\n",
       "      <th>33835459</th>\n",
       "      <td>254114</td>\n",
       "      <td>288983</td>\n",
       "      <td>3.0</td>\n",
       "      <td>UNZIPPED: An Autopsy of American Inequality (2...</td>\n",
       "      <td>Documentary</td>\n",
       "    </tr>\n",
       "  </tbody>\n",
       "</table>\n",
       "<p>33832162 rows × 5 columns</p>\n",
       "</div>"
      ],
      "text/plain": [
       "          userId  movieId  rating  \\\n",
       "0              1        1     4.0   \n",
       "1              2        1     5.0   \n",
       "2              7        1     4.0   \n",
       "3             10        1     3.0   \n",
       "4             12        1     5.0   \n",
       "...          ...      ...     ...   \n",
       "33835455   47791   288967     3.5   \n",
       "33835456   98408   288971     0.5   \n",
       "33835457  154483   288975     4.0   \n",
       "33835458  291389   288977     3.0   \n",
       "33835459  254114   288983     3.0   \n",
       "\n",
       "                                                      title  \\\n",
       "0                                          Toy Story (1995)   \n",
       "1                                          Toy Story (1995)   \n",
       "2                                          Toy Story (1995)   \n",
       "3                                          Toy Story (1995)   \n",
       "4                                          Toy Story (1995)   \n",
       "...                                                     ...   \n",
       "33835455               State of Siege: Temple Attack (2021)   \n",
       "33835456                                 Ouija Japan (2021)   \n",
       "33835457   The Men Who Made the Movies: Howard Hawks (1973)   \n",
       "33835458                    Skinford: Death Sentence (2023)   \n",
       "33835459  UNZIPPED: An Autopsy of American Inequality (2...   \n",
       "\n",
       "                                               genres  \n",
       "0         Adventure|Animation|Children|Comedy|Fantasy  \n",
       "1         Adventure|Animation|Children|Comedy|Fantasy  \n",
       "2         Adventure|Animation|Children|Comedy|Fantasy  \n",
       "3         Adventure|Animation|Children|Comedy|Fantasy  \n",
       "4         Adventure|Animation|Children|Comedy|Fantasy  \n",
       "...                                               ...  \n",
       "33835455                                 Action|Drama  \n",
       "33835456                                Action|Horror  \n",
       "33835457                                  Documentary  \n",
       "33835458                               Crime|Thriller  \n",
       "33835459                                  Documentary  \n",
       "\n",
       "[33832162 rows x 5 columns]"
      ]
     },
     "execution_count": 12,
     "metadata": {},
     "output_type": "execute_result"
    }
   ],
   "source": [
    "mr['userId'] = mr['userId'].astype(int)\n",
    "mr"
   ]
  },
  {
   "cell_type": "markdown",
   "metadata": {},
   "source": [
    "### Filter"
   ]
  },
  {
   "cell_type": "code",
   "execution_count": 13,
   "metadata": {},
   "outputs": [
    {
     "data": {
      "text/html": [
       "<div>\n",
       "<style scoped>\n",
       "    .dataframe tbody tr th:only-of-type {\n",
       "        vertical-align: middle;\n",
       "    }\n",
       "\n",
       "    .dataframe tbody tr th {\n",
       "        vertical-align: top;\n",
       "    }\n",
       "\n",
       "    .dataframe thead th {\n",
       "        text-align: right;\n",
       "    }\n",
       "</style>\n",
       "<table border=\"1\" class=\"dataframe\">\n",
       "  <thead>\n",
       "    <tr style=\"text-align: right;\">\n",
       "      <th></th>\n",
       "      <th>userId</th>\n",
       "      <th>movieId</th>\n",
       "      <th>rating</th>\n",
       "      <th>title</th>\n",
       "      <th>genres</th>\n",
       "    </tr>\n",
       "  </thead>\n",
       "  <tbody>\n",
       "    <tr>\n",
       "      <th>33182245</th>\n",
       "      <td>243485</td>\n",
       "      <td>190973</td>\n",
       "      <td>2.5</td>\n",
       "      <td>Hidden Reserves (2017)</td>\n",
       "      <td>Drama|Sci-Fi</td>\n",
       "    </tr>\n",
       "    <tr>\n",
       "      <th>16176049</th>\n",
       "      <td>71415</td>\n",
       "      <td>3005</td>\n",
       "      <td>4.0</td>\n",
       "      <td>Bone Collector, The (1999)</td>\n",
       "      <td>Thriller</td>\n",
       "    </tr>\n",
       "    <tr>\n",
       "      <th>32084944</th>\n",
       "      <td>171084</td>\n",
       "      <td>138036</td>\n",
       "      <td>4.0</td>\n",
       "      <td>The Man from U.N.C.L.E. (2015)</td>\n",
       "      <td>Action|Adventure|Comedy</td>\n",
       "    </tr>\n",
       "    <tr>\n",
       "      <th>6082545</th>\n",
       "      <td>256240</td>\n",
       "      <td>805</td>\n",
       "      <td>5.0</td>\n",
       "      <td>Time to Kill, A (1996)</td>\n",
       "      <td>Drama|Thriller</td>\n",
       "    </tr>\n",
       "    <tr>\n",
       "      <th>16125818</th>\n",
       "      <td>93175</td>\n",
       "      <td>2997</td>\n",
       "      <td>3.5</td>\n",
       "      <td>Being John Malkovich (1999)</td>\n",
       "      <td>Comedy|Drama|Fantasy</td>\n",
       "    </tr>\n",
       "    <tr>\n",
       "      <th>...</th>\n",
       "      <td>...</td>\n",
       "      <td>...</td>\n",
       "      <td>...</td>\n",
       "      <td>...</td>\n",
       "      <td>...</td>\n",
       "    </tr>\n",
       "    <tr>\n",
       "      <th>29704749</th>\n",
       "      <td>312288</td>\n",
       "      <td>90645</td>\n",
       "      <td>3.0</td>\n",
       "      <td>Anonymous (2011)</td>\n",
       "      <td>Drama</td>\n",
       "    </tr>\n",
       "    <tr>\n",
       "      <th>11211111</th>\n",
       "      <td>40095</td>\n",
       "      <td>1704</td>\n",
       "      <td>5.0</td>\n",
       "      <td>Good Will Hunting (1997)</td>\n",
       "      <td>Drama|Romance</td>\n",
       "    </tr>\n",
       "    <tr>\n",
       "      <th>3233117</th>\n",
       "      <td>22946</td>\n",
       "      <td>357</td>\n",
       "      <td>3.0</td>\n",
       "      <td>Four Weddings and a Funeral (1994)</td>\n",
       "      <td>Comedy|Romance</td>\n",
       "    </tr>\n",
       "    <tr>\n",
       "      <th>9600547</th>\n",
       "      <td>217248</td>\n",
       "      <td>1307</td>\n",
       "      <td>3.0</td>\n",
       "      <td>When Harry Met Sally... (1989)</td>\n",
       "      <td>Comedy|Romance</td>\n",
       "    </tr>\n",
       "    <tr>\n",
       "      <th>31518541</th>\n",
       "      <td>161267</td>\n",
       "      <td>118896</td>\n",
       "      <td>4.5</td>\n",
       "      <td>Mommy (2014)</td>\n",
       "      <td>Drama</td>\n",
       "    </tr>\n",
       "  </tbody>\n",
       "</table>\n",
       "<p>3000000 rows × 5 columns</p>\n",
       "</div>"
      ],
      "text/plain": [
       "          userId  movieId  rating                               title  \\\n",
       "33182245  243485   190973     2.5              Hidden Reserves (2017)   \n",
       "16176049   71415     3005     4.0          Bone Collector, The (1999)   \n",
       "32084944  171084   138036     4.0      The Man from U.N.C.L.E. (2015)   \n",
       "6082545   256240      805     5.0              Time to Kill, A (1996)   \n",
       "16125818   93175     2997     3.5         Being John Malkovich (1999)   \n",
       "...          ...      ...     ...                                 ...   \n",
       "29704749  312288    90645     3.0                    Anonymous (2011)   \n",
       "11211111   40095     1704     5.0            Good Will Hunting (1997)   \n",
       "3233117    22946      357     3.0  Four Weddings and a Funeral (1994)   \n",
       "9600547   217248     1307     3.0      When Harry Met Sally... (1989)   \n",
       "31518541  161267   118896     4.5                        Mommy (2014)   \n",
       "\n",
       "                           genres  \n",
       "33182245             Drama|Sci-Fi  \n",
       "16176049                 Thriller  \n",
       "32084944  Action|Adventure|Comedy  \n",
       "6082545            Drama|Thriller  \n",
       "16125818     Comedy|Drama|Fantasy  \n",
       "...                           ...  \n",
       "29704749                    Drama  \n",
       "11211111            Drama|Romance  \n",
       "3233117            Comedy|Romance  \n",
       "9600547            Comedy|Romance  \n",
       "31518541                    Drama  \n",
       "\n",
       "[3000000 rows x 5 columns]"
      ]
     },
     "execution_count": 13,
     "metadata": {},
     "output_type": "execute_result"
    }
   ],
   "source": [
    "sample = mr.sample(n=3000000, random_state=1)\n",
    "sample"
   ]
  },
  {
   "cell_type": "code",
   "execution_count": 14,
   "metadata": {},
   "outputs": [],
   "source": [
    "count = sample['userId'].value_counts()"
   ]
  },
  {
   "cell_type": "code",
   "execution_count": 15,
   "metadata": {},
   "outputs": [],
   "source": [
    "valid_user = count[count > 150].index"
   ]
  },
  {
   "cell_type": "code",
   "execution_count": 16,
   "metadata": {},
   "outputs": [],
   "source": [
    "sample_f = sample[sample['userId'].isin(valid_user)]"
   ]
  },
  {
   "cell_type": "code",
   "execution_count": 17,
   "metadata": {},
   "outputs": [
    {
     "data": {
      "text/plain": [
       "userId\n",
       "189614    2949\n",
       "48766      851\n",
       "76618      837\n",
       "207216     817\n",
       "175998     809\n",
       "          ... \n",
       "9012       151\n",
       "136471     151\n",
       "328058     151\n",
       "278369     151\n",
       "36774      151\n",
       "Name: count, Length: 1006, dtype: int64"
      ]
     },
     "execution_count": 17,
     "metadata": {},
     "output_type": "execute_result"
    }
   ],
   "source": [
    "sample_f['userId'].value_counts()"
   ]
  },
  {
   "cell_type": "code",
   "execution_count": 18,
   "metadata": {},
   "outputs": [
    {
     "data": {
      "text/html": [
       "<div>\n",
       "<style scoped>\n",
       "    .dataframe tbody tr th:only-of-type {\n",
       "        vertical-align: middle;\n",
       "    }\n",
       "\n",
       "    .dataframe tbody tr th {\n",
       "        vertical-align: top;\n",
       "    }\n",
       "\n",
       "    .dataframe thead th {\n",
       "        text-align: right;\n",
       "    }\n",
       "</style>\n",
       "<table border=\"1\" class=\"dataframe\">\n",
       "  <thead>\n",
       "    <tr style=\"text-align: right;\">\n",
       "      <th></th>\n",
       "      <th>userId</th>\n",
       "      <th>movieId</th>\n",
       "      <th>rating</th>\n",
       "      <th>title</th>\n",
       "      <th>genres</th>\n",
       "    </tr>\n",
       "  </thead>\n",
       "  <tbody>\n",
       "    <tr>\n",
       "      <th>18886269</th>\n",
       "      <td>20459</td>\n",
       "      <td>4034</td>\n",
       "      <td>3.5</td>\n",
       "      <td>Traffic (2000)</td>\n",
       "      <td>Crime|Drama|Thriller</td>\n",
       "    </tr>\n",
       "    <tr>\n",
       "      <th>21129870</th>\n",
       "      <td>10129</td>\n",
       "      <td>5459</td>\n",
       "      <td>3.5</td>\n",
       "      <td>Men in Black II (a.k.a. MIIB) (a.k.a. MIB 2) (...</td>\n",
       "      <td>Action|Comedy|Sci-Fi</td>\n",
       "    </tr>\n",
       "    <tr>\n",
       "      <th>30090305</th>\n",
       "      <td>211422</td>\n",
       "      <td>96110</td>\n",
       "      <td>4.0</td>\n",
       "      <td>Campaign, The (2012)</td>\n",
       "      <td>Comedy</td>\n",
       "    </tr>\n",
       "    <tr>\n",
       "      <th>33624911</th>\n",
       "      <td>114227</td>\n",
       "      <td>224869</td>\n",
       "      <td>1.0</td>\n",
       "      <td>Winnie the Pooh: Springtime with Roo (2004)</td>\n",
       "      <td>Animation|Children</td>\n",
       "    </tr>\n",
       "    <tr>\n",
       "      <th>27288136</th>\n",
       "      <td>189614</td>\n",
       "      <td>59273</td>\n",
       "      <td>3.0</td>\n",
       "      <td>Delirious (2006)</td>\n",
       "      <td>Comedy|Drama</td>\n",
       "    </tr>\n",
       "    <tr>\n",
       "      <th>31174192</th>\n",
       "      <td>213479</td>\n",
       "      <td>112552</td>\n",
       "      <td>4.5</td>\n",
       "      <td>Whiplash (2014)</td>\n",
       "      <td>Drama</td>\n",
       "    </tr>\n",
       "    <tr>\n",
       "      <th>11877966</th>\n",
       "      <td>153377</td>\n",
       "      <td>1939</td>\n",
       "      <td>3.0</td>\n",
       "      <td>Best Years of Our Lives, The (1946)</td>\n",
       "      <td>Drama|War</td>\n",
       "    </tr>\n",
       "    <tr>\n",
       "      <th>23038858</th>\n",
       "      <td>166208</td>\n",
       "      <td>7139</td>\n",
       "      <td>5.0</td>\n",
       "      <td>In America (2002)</td>\n",
       "      <td>Drama|Romance</td>\n",
       "    </tr>\n",
       "    <tr>\n",
       "      <th>24568186</th>\n",
       "      <td>49000</td>\n",
       "      <td>27728</td>\n",
       "      <td>0.5</td>\n",
       "      <td>Ghost in the Shell 2: Innocence (a.k.a. Innoce...</td>\n",
       "      <td>Action|Animation|Drama|Sci-Fi|Thriller</td>\n",
       "    </tr>\n",
       "    <tr>\n",
       "      <th>30352038</th>\n",
       "      <td>262716</td>\n",
       "      <td>99415</td>\n",
       "      <td>2.5</td>\n",
       "      <td>Parental Guidance (2012)</td>\n",
       "      <td>Comedy</td>\n",
       "    </tr>\n",
       "    <tr>\n",
       "      <th>12793651</th>\n",
       "      <td>44754</td>\n",
       "      <td>2107</td>\n",
       "      <td>3.0</td>\n",
       "      <td>Halloween H20: 20 Years Later (Halloween 7: Th...</td>\n",
       "      <td>Horror|Thriller</td>\n",
       "    </tr>\n",
       "    <tr>\n",
       "      <th>26012933</th>\n",
       "      <td>37976</td>\n",
       "      <td>48304</td>\n",
       "      <td>5.0</td>\n",
       "      <td>Apocalypto (2006)</td>\n",
       "      <td>Adventure|Drama|Thriller</td>\n",
       "    </tr>\n",
       "    <tr>\n",
       "      <th>32686507</th>\n",
       "      <td>137218</td>\n",
       "      <td>168248</td>\n",
       "      <td>3.0</td>\n",
       "      <td>John Wick: Chapter Two (2017)</td>\n",
       "      <td>Action|Crime|Thriller</td>\n",
       "    </tr>\n",
       "    <tr>\n",
       "      <th>23404734</th>\n",
       "      <td>51808</td>\n",
       "      <td>7373</td>\n",
       "      <td>3.5</td>\n",
       "      <td>Hellboy (2004)</td>\n",
       "      <td>Action|Adventure|Fantasy|Horror</td>\n",
       "    </tr>\n",
       "    <tr>\n",
       "      <th>25686164</th>\n",
       "      <td>175791</td>\n",
       "      <td>44972</td>\n",
       "      <td>3.0</td>\n",
       "      <td>Scary Movie 4 (2006)</td>\n",
       "      <td>Comedy|Horror</td>\n",
       "    </tr>\n",
       "    <tr>\n",
       "      <th>5870681</th>\n",
       "      <td>315416</td>\n",
       "      <td>778</td>\n",
       "      <td>4.0</td>\n",
       "      <td>Trainspotting (1996)</td>\n",
       "      <td>Comedy|Crime|Drama</td>\n",
       "    </tr>\n",
       "    <tr>\n",
       "      <th>15880496</th>\n",
       "      <td>282466</td>\n",
       "      <td>2949</td>\n",
       "      <td>4.0</td>\n",
       "      <td>Dr. No (1962)</td>\n",
       "      <td>Action|Adventure|Thriller</td>\n",
       "    </tr>\n",
       "    <tr>\n",
       "      <th>12299135</th>\n",
       "      <td>179074</td>\n",
       "      <td>2007</td>\n",
       "      <td>3.0</td>\n",
       "      <td>Polish Wedding (1998)</td>\n",
       "      <td>Comedy</td>\n",
       "    </tr>\n",
       "    <tr>\n",
       "      <th>32748879</th>\n",
       "      <td>223459</td>\n",
       "      <td>169760</td>\n",
       "      <td>4.0</td>\n",
       "      <td>Lady Macbeth (2017)</td>\n",
       "      <td>Drama</td>\n",
       "    </tr>\n",
       "    <tr>\n",
       "      <th>7454077</th>\n",
       "      <td>23130</td>\n",
       "      <td>1101</td>\n",
       "      <td>3.0</td>\n",
       "      <td>Top Gun (1986)</td>\n",
       "      <td>Action|Romance</td>\n",
       "    </tr>\n",
       "  </tbody>\n",
       "</table>\n",
       "</div>"
      ],
      "text/plain": [
       "          userId  movieId  rating  \\\n",
       "18886269   20459     4034     3.5   \n",
       "21129870   10129     5459     3.5   \n",
       "30090305  211422    96110     4.0   \n",
       "33624911  114227   224869     1.0   \n",
       "27288136  189614    59273     3.0   \n",
       "31174192  213479   112552     4.5   \n",
       "11877966  153377     1939     3.0   \n",
       "23038858  166208     7139     5.0   \n",
       "24568186   49000    27728     0.5   \n",
       "30352038  262716    99415     2.5   \n",
       "12793651   44754     2107     3.0   \n",
       "26012933   37976    48304     5.0   \n",
       "32686507  137218   168248     3.0   \n",
       "23404734   51808     7373     3.5   \n",
       "25686164  175791    44972     3.0   \n",
       "5870681   315416      778     4.0   \n",
       "15880496  282466     2949     4.0   \n",
       "12299135  179074     2007     3.0   \n",
       "32748879  223459   169760     4.0   \n",
       "7454077    23130     1101     3.0   \n",
       "\n",
       "                                                      title  \\\n",
       "18886269                                     Traffic (2000)   \n",
       "21129870  Men in Black II (a.k.a. MIIB) (a.k.a. MIB 2) (...   \n",
       "30090305                               Campaign, The (2012)   \n",
       "33624911        Winnie the Pooh: Springtime with Roo (2004)   \n",
       "27288136                                   Delirious (2006)   \n",
       "31174192                                    Whiplash (2014)   \n",
       "11877966                Best Years of Our Lives, The (1946)   \n",
       "23038858                                  In America (2002)   \n",
       "24568186  Ghost in the Shell 2: Innocence (a.k.a. Innoce...   \n",
       "30352038                           Parental Guidance (2012)   \n",
       "12793651  Halloween H20: 20 Years Later (Halloween 7: Th...   \n",
       "26012933                                  Apocalypto (2006)   \n",
       "32686507                      John Wick: Chapter Two (2017)   \n",
       "23404734                                     Hellboy (2004)   \n",
       "25686164                               Scary Movie 4 (2006)   \n",
       "5870681                                Trainspotting (1996)   \n",
       "15880496                                      Dr. No (1962)   \n",
       "12299135                              Polish Wedding (1998)   \n",
       "32748879                                Lady Macbeth (2017)   \n",
       "7454077                                      Top Gun (1986)   \n",
       "\n",
       "                                          genres  \n",
       "18886269                    Crime|Drama|Thriller  \n",
       "21129870                    Action|Comedy|Sci-Fi  \n",
       "30090305                                  Comedy  \n",
       "33624911                      Animation|Children  \n",
       "27288136                            Comedy|Drama  \n",
       "31174192                                   Drama  \n",
       "11877966                               Drama|War  \n",
       "23038858                           Drama|Romance  \n",
       "24568186  Action|Animation|Drama|Sci-Fi|Thriller  \n",
       "30352038                                  Comedy  \n",
       "12793651                         Horror|Thriller  \n",
       "26012933                Adventure|Drama|Thriller  \n",
       "32686507                   Action|Crime|Thriller  \n",
       "23404734         Action|Adventure|Fantasy|Horror  \n",
       "25686164                           Comedy|Horror  \n",
       "5870681                       Comedy|Crime|Drama  \n",
       "15880496               Action|Adventure|Thriller  \n",
       "12299135                                  Comedy  \n",
       "32748879                                   Drama  \n",
       "7454077                           Action|Romance  "
      ]
     },
     "execution_count": 18,
     "metadata": {},
     "output_type": "execute_result"
    }
   ],
   "source": [
    "sample_f.head(20)"
   ]
  },
  {
   "cell_type": "markdown",
   "metadata": {
    "vscode": {
     "languageId": "plaintext"
    }
   },
   "source": [
    "## Model"
   ]
  },
  {
   "cell_type": "code",
   "execution_count": 19,
   "metadata": {},
   "outputs": [],
   "source": [
    "reader = Reader(rating_scale=(0, 5))  # Define the rating scale\n",
    "data = Dataset.load_from_df(sample_f[['userId', 'movieId', 'rating']], reader)"
   ]
  },
  {
   "cell_type": "code",
   "execution_count": 20,
   "metadata": {},
   "outputs": [],
   "source": [
    "trainset, testset = train_test_split(data, test_size=0.2)"
   ]
  },
  {
   "cell_type": "code",
   "execution_count": 21,
   "metadata": {},
   "outputs": [],
   "source": [
    "svd = SVD(n_epochs=50)"
   ]
  },
  {
   "cell_type": "code",
   "execution_count": 22,
   "metadata": {},
   "outputs": [
    {
     "data": {
      "text/plain": [
       "<surprise.prediction_algorithms.matrix_factorization.SVD at 0x11e7931a0>"
      ]
     },
     "execution_count": 22,
     "metadata": {},
     "output_type": "execute_result"
    }
   ],
   "source": [
    "svd.fit(trainset)"
   ]
  },
  {
   "cell_type": "code",
   "execution_count": 23,
   "metadata": {},
   "outputs": [],
   "source": [
    "prediction = svd.test(testset)"
   ]
  },
  {
   "cell_type": "code",
   "execution_count": 24,
   "metadata": {},
   "outputs": [
    {
     "name": "stdout",
     "output_type": "stream",
     "text": [
      "RMSE: 0.8811\n",
      "RMSE: 0.8811\n"
     ]
    }
   ],
   "source": [
    "rmse = accuracy.rmse(prediction)\n",
    "print(f\"RMSE: {rmse:.4f}\")"
   ]
  },
  {
   "cell_type": "code",
   "execution_count": 25,
   "metadata": {},
   "outputs": [
    {
     "name": "stdout",
     "output_type": "stream",
     "text": [
      "MAE:  0.6730\n",
      "0.6729893456746462\n"
     ]
    }
   ],
   "source": [
    "print(accuracy.mae(prediction))"
   ]
  },
  {
   "cell_type": "markdown",
   "metadata": {},
   "source": [
    "---------------------"
   ]
  },
  {
   "cell_type": "markdown",
   "metadata": {},
   "source": [
    "### Cross Validation"
   ]
  },
  {
   "cell_type": "code",
   "execution_count": 26,
   "metadata": {},
   "outputs": [
    {
     "name": "stdout",
     "output_type": "stream",
     "text": [
      "Evaluating RMSE, MAE of algorithm SVD on 5 split(s).\n",
      "\n",
      "                  Fold 1  Fold 2  Fold 3  Fold 4  Fold 5  Mean    Std     \n",
      "RMSE (testset)    0.8755  0.8695  0.8731  0.8784  0.8745  0.8742  0.0029  \n",
      "MAE (testset)     0.6701  0.6642  0.6665  0.6695  0.6669  0.6674  0.0021  \n",
      "Fit time          3.82    3.73    3.62    3.60    3.57    3.67    0.09    \n",
      "Test time         0.19    0.18    0.18    0.18    0.18    0.18    0.00    \n"
     ]
    }
   ],
   "source": [
    "results = cross_validate(svd, data, measures=['RMSE', 'MAE'], cv=5, verbose=True)"
   ]
  },
  {
   "cell_type": "code",
   "execution_count": 27,
   "metadata": {},
   "outputs": [
    {
     "name": "stdout",
     "output_type": "stream",
     "text": [
      "\n",
      "Average RMSE with default parameters:  0.8742076269472958\n",
      "Average MAE with default parameters:  0.6674361124209323\n"
     ]
    }
   ],
   "source": [
    "print(\"\\nAverage RMSE with default parameters: \", results['test_rmse'].mean())\n",
    "print(\"Average MAE with default parameters: \", results['test_mae'].mean())"
   ]
  },
  {
   "cell_type": "code",
   "execution_count": 28,
   "metadata": {},
   "outputs": [],
   "source": [
    "param_grid = {\n",
    "    'n_factors': [50, 100, 150],\n",
    "    'reg_all': [0.01, 0.1, 0.2],\n",
    "    'lr_all': [0.005, 0.01, 0.05]\n",
    "}\n"
   ]
  },
  {
   "cell_type": "code",
   "execution_count": 29,
   "metadata": {},
   "outputs": [],
   "source": [
    "grid_search = GridSearchCV(SVD, param_grid, measures=['RMSE', 'MAE'], cv=5)\n",
    "grid_search.fit(data)"
   ]
  },
  {
   "cell_type": "code",
   "execution_count": 30,
   "metadata": {},
   "outputs": [
    {
     "name": "stdout",
     "output_type": "stream",
     "text": [
      "Best parameters found:  {'rmse': {'n_factors': 150, 'reg_all': 0.1, 'lr_all': 0.05}, 'mae': {'n_factors': 150, 'reg_all': 0.1, 'lr_all': 0.05}}\n",
      "Best RMSE:  0.8421249024932635\n"
     ]
    }
   ],
   "source": [
    "print(\"Best parameters found: \", grid_search.best_params)\n",
    "print(\"Best RMSE: \", grid_search.best_score['rmse'])"
   ]
  },
  {
   "cell_type": "code",
   "execution_count": 32,
   "metadata": {},
   "outputs": [
    {
     "data": {
      "text/plain": [
       "<surprise.prediction_algorithms.matrix_factorization.SVD at 0x1069c9190>"
      ]
     },
     "execution_count": 32,
     "metadata": {},
     "output_type": "execute_result"
    }
   ],
   "source": [
    "best_svd = grid_search.best_estimator['rmse']\n",
    "best_svd.fit(data.build_full_trainset())"
   ]
  },
  {
   "cell_type": "code",
   "execution_count": 33,
   "metadata": {},
   "outputs": [],
   "source": [
    "trainset = best_svd.trainset\n",
    "testset = trainset.build_testset()\n",
    "predictions = best_svd.test(testset)"
   ]
  },
  {
   "cell_type": "code",
   "execution_count": 34,
   "metadata": {},
   "outputs": [
    {
     "name": "stdout",
     "output_type": "stream",
     "text": [
      "RMSE: 0.4494\n",
      "RMSE after tuning:  0.4493743071800926\n",
      "MAE:  0.3424\n",
      "MAE after tuning:  0.3423865979568008\n"
     ]
    }
   ],
   "source": [
    "print(\"RMSE after tuning: \", accuracy.rmse(predictions))\n",
    "print(\"MAE after tuning: \", accuracy.mae(predictions))"
   ]
  },
  {
   "cell_type": "markdown",
   "metadata": {},
   "source": [
    "## Recommendation"
   ]
  },
  {
   "cell_type": "markdown",
   "metadata": {},
   "source": [
    "--------------------------"
   ]
  },
  {
   "cell_type": "code",
   "execution_count": 1,
   "metadata": {},
   "outputs": [],
   "source": [
    "def get_movie_recommendations(user_id, top_n=5):\n",
    "    # Get all movie IDs\n",
    "    all_movie_ids = sample_f['movieId'].unique()\n",
    "    \n",
    "    # Get the movies the user has already rated\n",
    "    rated_movie_ids = sample_f[sample_f['userId'] == user_id]['movieId'].tolist()\n",
    "    \n",
    "    # Predict ratings for all movies the user has not rated\n",
    "    predictions = []\n",
    "    for movie_id in all_movie_ids:\n",
    "        if movie_id not in rated_movie_ids:\n",
    "            pred = best_svd.predict(user_id, movie_id)\n",
    "            predictions.append((movie_id, pred.est))\n",
    "    \n",
    "    # Sort predictions by estimated rating (highest first)\n",
    "    predictions.sort(key=lambda x: x[1], reverse=True)\n",
    "    \n",
    "    # Get the top N recommended movies\n",
    "    top_predictions = predictions[:top_n]\n",
    "    \n",
    "    # Get movie titles for the top N recommended movies\n",
    "    recommendations = []\n",
    "    for movie_id, _ in top_predictions:\n",
    "        movie_title = sample_f[sample_f['movieId'] == movie_id]['title'].iloc[0]  # get movie\n",
    "        movie_genres = sample_f[sample_f['movieId'] == movie_id]['genres'].iloc[0] # get genre\n",
    "        recommendations.append(movie_title)\n",
    "    \n",
    "    return recommendations"
   ]
  },
  {
   "cell_type": "code",
   "execution_count": 2,
   "metadata": {},
   "outputs": [
    {
     "ename": "NameError",
     "evalue": "name 'sample_f' is not defined",
     "output_type": "error",
     "traceback": [
      "\u001b[0;31m---------------------------------------------------------------------------\u001b[0m",
      "\u001b[0;31mNameError\u001b[0m                                 Traceback (most recent call last)",
      "Cell \u001b[0;32mIn[2], line 2\u001b[0m\n\u001b[1;32m      1\u001b[0m user_id \u001b[38;5;241m=\u001b[39m \u001b[38;5;241m20459\u001b[39m\n\u001b[0;32m----> 2\u001b[0m recommended_movies \u001b[38;5;241m=\u001b[39m get_movie_recommendations(user_id, top_n\u001b[38;5;241m=\u001b[39m\u001b[38;5;241m5\u001b[39m)\n",
      "Cell \u001b[0;32mIn[1], line 3\u001b[0m, in \u001b[0;36mget_movie_recommendations\u001b[0;34m(user_id, top_n)\u001b[0m\n\u001b[1;32m      1\u001b[0m \u001b[38;5;28;01mdef\u001b[39;00m \u001b[38;5;21mget_movie_recommendations\u001b[39m(user_id, top_n\u001b[38;5;241m=\u001b[39m\u001b[38;5;241m5\u001b[39m):\n\u001b[1;32m      2\u001b[0m     \u001b[38;5;66;03m# Get all movie IDs\u001b[39;00m\n\u001b[0;32m----> 3\u001b[0m     all_movie_ids \u001b[38;5;241m=\u001b[39m sample_f[\u001b[38;5;124m'\u001b[39m\u001b[38;5;124mmovieId\u001b[39m\u001b[38;5;124m'\u001b[39m]\u001b[38;5;241m.\u001b[39munique()\n\u001b[1;32m      5\u001b[0m     \u001b[38;5;66;03m# Get the movies the user has already rated\u001b[39;00m\n\u001b[1;32m      6\u001b[0m     rated_movie_ids \u001b[38;5;241m=\u001b[39m sample_f[sample_f[\u001b[38;5;124m'\u001b[39m\u001b[38;5;124muserId\u001b[39m\u001b[38;5;124m'\u001b[39m] \u001b[38;5;241m==\u001b[39m user_id][\u001b[38;5;124m'\u001b[39m\u001b[38;5;124mmovieId\u001b[39m\u001b[38;5;124m'\u001b[39m]\u001b[38;5;241m.\u001b[39mtolist()\n",
      "\u001b[0;31mNameError\u001b[0m: name 'sample_f' is not defined"
     ]
    }
   ],
   "source": [
    "user_id = 20459\n",
    "recommended_movies = get_movie_recommendations(user_id, top_n=5)"
   ]
  },
  {
   "cell_type": "code",
   "execution_count": 37,
   "metadata": {},
   "outputs": [
    {
     "name": "stdout",
     "output_type": "stream",
     "text": [
      "Recommended Movies for User 20459:\n",
      "- Human Condition III, The (Ningen no joken III) (1961)\n",
      "- The Fool (2014)\n",
      "- Crazy About Tiffany's (2016)\n",
      "- The Boy and the World (2013)\n",
      "- Last Lions, The (2011)\n"
     ]
    }
   ],
   "source": [
    "print(f\"Recommended Movies for User {user_id}:\")\n",
    "for movie in recommended_movies:\n",
    "    print(f\"- {movie}\")"
   ]
  }
 ],
 "metadata": {
  "kernelspec": {
   "display_name": "Python (mylearnenv)",
   "language": "python",
   "name": "mylearnenv"
  },
  "language_info": {
   "codemirror_mode": {
    "name": "ipython",
    "version": 3
   },
   "file_extension": ".py",
   "mimetype": "text/x-python",
   "name": "python",
   "nbconvert_exporter": "python",
   "pygments_lexer": "ipython3",
   "version": "3.12.4"
  }
 },
 "nbformat": 4,
 "nbformat_minor": 2
}
